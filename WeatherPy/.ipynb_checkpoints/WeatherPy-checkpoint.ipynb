{
 "cells": [
  {
   "cell_type": "markdown",
   "metadata": {},
   "source": [
    "# WeatherPy\n",
    "----\n",
    "\n",
    "#### Note\n",
    "* Instructions have been included for each segment. You do not have to follow them exactly, but they are included to help you think through the steps."
   ]
  },
  {
   "cell_type": "code",
   "execution_count": 1,
   "metadata": {
    "scrolled": true
   },
   "outputs": [],
   "source": [
    "# Import dependencies \n",
    "import matplotlib.pyplot as plt\n",
    "import pandas as pd\n",
    "import numpy as np\n",
    "import requests\n",
    "import time\n",
    "from scipy.stats import linregress\n",
    "\n",
    "# Import API key \n",
    "weather_api_key = \"902fd8ce3c581e31b7de43156a4b2fda\"\n",
    "\n",
    "# Output File (CSV)\n",
    "output_file = \"output_data/cities.csv\"\n",
    "\n",
    "# Determine city based on latitude and longitude\n",
    "from citipy import citipy\n",
    "\n",
    "# Range of latitudes and longitudes\n",
    "lat_range = (-90, 90)\n",
    "long_range = (-180, 180)"
   ]
  },
  {
   "cell_type": "markdown",
   "metadata": {},
   "source": [
    "## Generate Cities List"
   ]
  },
  {
   "cell_type": "code",
   "execution_count": 2,
   "metadata": {},
   "outputs": [
    {
     "data": {
      "text/plain": [
       "624"
      ]
     },
     "execution_count": 2,
     "metadata": {},
     "output_type": "execute_result"
    }
   ],
   "source": [
    "# List for holding coordinates (latitude and longitud) and cities\n",
    "coordinates = []\n",
    "cities = []\n",
    "\n",
    "# Create a set of random lat and long combinations\n",
    "lat = np.random.uniform(lat_range[0], lat_range[1], size=1500)\n",
    "long = np.random.uniform(long_range[0], long_range[1], size=1500)\n",
    "coordinates = zip(lat, long)\n",
    "\n",
    "# Identify nearest city for each lat, long combination\n",
    "for lat_longs in coordinates:\n",
    "    city = citipy.nearest_city(lat_longs[0], lat_longs[1]).city_name\n",
    "    \n",
    "    # If the city is unique, then add it to a our cities list\n",
    "    if city not in cities:\n",
    "        cities.append(city)\n",
    "\n",
    "# Print the city count to confirm sufficient count\n",
    "len(cities)"
   ]
  },
  {
   "cell_type": "markdown",
   "metadata": {},
   "source": [
    "### Perform API Calls\n",
    "* Perform a weather check on each city using a series of successive API calls.\n",
    "* Include a print log of each city as it'sbeing processed (with the city number and city name).\n"
   ]
  },
  {
   "cell_type": "code",
   "execution_count": 3,
   "metadata": {},
   "outputs": [],
   "source": [
    " #Lists and counters\n",
    "new_cities = []\n",
    "cloud = []\n",
    "country = []\n",
    "date = []\n",
    "humidity = []\n",
    "temp = []\n",
    "lats = []\n",
    "longs = []\n",
    "wind = []\n",
    "index_counter = 0\n",
    "set_counter = 1"
   ]
  },
  {
   "cell_type": "code",
   "execution_count": 4,
   "metadata": {},
   "outputs": [
    {
     "data": {
      "text/plain": [
       "{'cod': '404', 'message': 'city not found'}"
      ]
     },
     "execution_count": 4,
     "metadata": {},
     "output_type": "execute_result"
    }
   ],
   "source": [
    "# Weather API Call\n",
    "base_url = \"http://api.openweathermap.org/data/2.5/weather?\"\n",
    "units = \"imperial\"\n",
    "url = f\"{base_url}appid={weather_api_key}&units={units}&q=\"\n",
    "\n",
    "response = requests.get(url + city).json()\n",
    "response"
   ]
  },
  {
   "cell_type": "code",
   "execution_count": 5,
   "metadata": {
    "scrolled": true
   },
   "outputs": [
    {
     "name": "stdout",
     "output_type": "stream",
     "text": [
      "Beginning Data Retrieval \n",
      "-------------------------------\n",
      "Processing Record 1 of Set 1 : busselton\n",
      "Processing Record 2 of Set 1 : tiksi\n",
      "Processing Record 3 of Set 1 : lavrentiya\n",
      "Processing Record 4 of Set 1 : saint-georges\n",
      "Processing Record 5 of Set 1 : madera\n",
      "Processing Record 6 of Set 1 : asau\n",
      "Processing Record 7 of Set 1 : florianopolis\n",
      "Processing Record 8 of Set 1 : monrovia\n",
      "Processing Record 9 of Set 1 : hermanus\n",
      "City not found. Skipping...\n",
      "Processing Record 10 of Set 1 : provideniya\n",
      "Processing Record 11 of Set 1 : albany\n",
      "Processing Record 12 of Set 1 : chuy\n",
      "Processing Record 13 of Set 1 : airai\n",
      "Processing Record 14 of Set 1 : nikolskoye\n",
      "Processing Record 15 of Set 1 : longyearbyen\n",
      "Processing Record 16 of Set 1 : cherskiy\n",
      "City not found. Skipping...\n",
      "Processing Record 17 of Set 1 : carndonagh\n",
      "Processing Record 18 of Set 1 : goderich\n",
      "Processing Record 19 of Set 1 : gizo\n",
      "Processing Record 20 of Set 1 : klyuchi\n",
      "Processing Record 21 of Set 1 : lagoa\n",
      "Processing Record 22 of Set 1 : caxito\n",
      "City not found. Skipping...\n",
      "Processing Record 23 of Set 1 : tuktoyaktuk\n",
      "Processing Record 24 of Set 1 : sitka\n",
      "Processing Record 25 of Set 1 : san cristobal\n",
      "Processing Record 26 of Set 1 : verkhnyaya toyma\n",
      "Processing Record 27 of Set 1 : orange cove\n",
      "Processing Record 28 of Set 1 : punta arenas\n",
      "Processing Record 29 of Set 1 : rikitea\n",
      "Processing Record 30 of Set 1 : mogadishu\n",
      "Processing Record 31 of Set 1 : norman wells\n",
      "Processing Record 32 of Set 1 : esperance\n",
      "Processing Record 33 of Set 1 : saint-philippe\n",
      "Processing Record 34 of Set 1 : lakes entrance\n",
      "Processing Record 35 of Set 1 : ulladulla\n",
      "Processing Record 36 of Set 1 : kavaratti\n",
      "Processing Record 37 of Set 1 : carnarvon\n",
      "Processing Record 38 of Set 1 : mount gambier\n",
      "Processing Record 39 of Set 1 : bambous virieux\n",
      "Processing Record 40 of Set 1 : narsaq\n",
      "Processing Record 41 of Set 1 : tibu\n",
      "Processing Record 42 of Set 1 : awash\n",
      "Processing Record 43 of Set 1 : mataura\n",
      "Processing Record 44 of Set 1 : baykit\n",
      "Processing Record 45 of Set 1 : port macquarie\n",
      "Processing Record 46 of Set 1 : coquimbo\n",
      "City not found. Skipping...\n",
      "Processing Record 47 of Set 1 : shimoda\n",
      "Processing Record 48 of Set 1 : bluff\n",
      "Processing Record 49 of Set 1 : balad\n",
      "Processing Record 50 of Set 1 : surazh\n",
      "Processing Record 0 of Set 2 : puerto ayora\n",
      "City not found. Skipping...\n",
      "Processing Record 1 of Set 2 : dikson\n",
      "Processing Record 2 of Set 2 : butaritari\n",
      "Processing Record 3 of Set 2 : saint george\n",
      "Processing Record 4 of Set 2 : ushuaia\n",
      "Processing Record 5 of Set 2 : saskylakh\n",
      "Processing Record 6 of Set 2 : bredasdorp\n",
      "Processing Record 7 of Set 2 : qaanaaq\n",
      "Processing Record 8 of Set 2 : soyo\n",
      "Processing Record 9 of Set 2 : hobart\n",
      "Processing Record 10 of Set 2 : laguna\n",
      "Processing Record 11 of Set 2 : hirara\n",
      "Processing Record 12 of Set 2 : castro\n",
      "Processing Record 13 of Set 2 : majene\n",
      "Processing Record 14 of Set 2 : benguela\n",
      "Processing Record 15 of Set 2 : vaini\n",
      "Processing Record 16 of Set 2 : qaqortoq\n",
      "Processing Record 17 of Set 2 : berlevag\n",
      "Processing Record 18 of Set 2 : qasigiannguit\n",
      "Processing Record 19 of Set 2 : homer\n",
      "Processing Record 20 of Set 2 : tank\n",
      "Processing Record 21 of Set 2 : dalvik\n",
      "Processing Record 22 of Set 2 : fortuna\n",
      "Processing Record 23 of Set 2 : kalia\n",
      "Processing Record 24 of Set 2 : avarua\n",
      "Processing Record 25 of Set 2 : charters towers\n",
      "Processing Record 26 of Set 2 : hilo\n",
      "Processing Record 27 of Set 2 : kodiak\n",
      "Processing Record 28 of Set 2 : conceicao da barra\n",
      "City not found. Skipping...\n",
      "Processing Record 29 of Set 2 : northam\n",
      "Processing Record 30 of Set 2 : east london\n",
      "Processing Record 31 of Set 2 : upernavik\n",
      "Processing Record 32 of Set 2 : mecca\n",
      "City not found. Skipping...\n",
      "Processing Record 33 of Set 2 : craig\n",
      "Processing Record 34 of Set 2 : broome\n",
      "Processing Record 35 of Set 2 : redmond\n",
      "Processing Record 36 of Set 2 : henties bay\n",
      "Processing Record 37 of Set 2 : viramgam\n",
      "Processing Record 38 of Set 2 : atuona\n",
      "Processing Record 39 of Set 2 : luderitz\n",
      "Processing Record 40 of Set 2 : sao joao da barra\n",
      "Processing Record 41 of Set 2 : sibu\n",
      "Processing Record 42 of Set 2 : arawa\n",
      "Processing Record 43 of Set 2 : caravelas\n",
      "City not found. Skipping...\n",
      "Processing Record 44 of Set 2 : dunedin\n",
      "Processing Record 45 of Set 2 : kenora\n",
      "Processing Record 46 of Set 2 : cape town\n",
      "Processing Record 47 of Set 2 : walvis bay\n",
      "Processing Record 48 of Set 2 : san quintin\n",
      "Processing Record 49 of Set 2 : nangomba\n",
      "Processing Record 50 of Set 2 : sena madureira\n",
      "Processing Record 0 of Set 3 : havelock\n",
      "Processing Record 1 of Set 3 : barrow\n",
      "Processing Record 2 of Set 3 : baherden\n",
      "City not found. Skipping...\n",
      "Processing Record 3 of Set 3 : agutaya\n",
      "Processing Record 4 of Set 3 : thinadhoo\n",
      "Processing Record 5 of Set 3 : faanui\n",
      "Processing Record 6 of Set 3 : novopavlovka\n",
      "Processing Record 7 of Set 3 : upata\n",
      "Processing Record 8 of Set 3 : thompson\n",
      "Processing Record 9 of Set 3 : limbang\n",
      "Processing Record 10 of Set 3 : bend\n",
      "Processing Record 11 of Set 3 : kamaishi\n",
      "Processing Record 12 of Set 3 : voi\n",
      "Processing Record 13 of Set 3 : lata\n",
      "Processing Record 14 of Set 3 : khatanga\n",
      "Processing Record 15 of Set 3 : hasaki\n",
      "Processing Record 16 of Set 3 : marzuq\n",
      "Processing Record 17 of Set 3 : jamestown\n",
      "Processing Record 18 of Set 3 : bonthe\n",
      "Processing Record 19 of Set 3 : tadine\n",
      "Processing Record 20 of Set 3 : mahon\n",
      "Processing Record 21 of Set 3 : jinchang\n",
      "Processing Record 22 of Set 3 : sobolevo\n",
      "Processing Record 23 of Set 3 : shelburne\n",
      "Processing Record 24 of Set 3 : ahipara\n",
      "Processing Record 25 of Set 3 : mahebourg\n",
      "Processing Record 26 of Set 3 : yeppoon\n",
      "Processing Record 27 of Set 3 : ostrovnoy\n",
      "Processing Record 28 of Set 3 : maldonado\n",
      "Processing Record 29 of Set 3 : san patricio\n",
      "Processing Record 30 of Set 3 : dingle\n",
      "Processing Record 31 of Set 3 : mahanje\n",
      "Processing Record 32 of Set 3 : alofi\n",
      "Processing Record 33 of Set 3 : verkhnyaya inta\n",
      "Processing Record 34 of Set 3 : molchanovo\n",
      "Processing Record 35 of Set 3 : clinton\n",
      "City not found. Skipping...\n",
      "Processing Record 36 of Set 3 : batagay\n",
      "Processing Record 37 of Set 3 : whitefish\n",
      "Processing Record 38 of Set 3 : sunrise manor\n",
      "Processing Record 39 of Set 3 : yellowknife\n",
      "Processing Record 40 of Set 3 : oranjemund\n",
      "Processing Record 41 of Set 3 : ayan\n",
      "Processing Record 42 of Set 3 : poum\n",
      "Processing Record 43 of Set 3 : nadym\n",
      "Processing Record 44 of Set 3 : porangatu\n",
      "City not found. Skipping...\n",
      "Processing Record 45 of Set 3 : chopinzinho\n",
      "Processing Record 46 of Set 3 : ludvika\n",
      "Processing Record 47 of Set 3 : kapaa\n",
      "Processing Record 48 of Set 3 : baghdad\n",
      "Processing Record 49 of Set 3 : malakal\n",
      "City not found. Skipping...\n",
      "Processing Record 50 of Set 3 : zyryanka\n",
      "Processing Record 0 of Set 4 : kisangani\n",
      "Processing Record 1 of Set 4 : nanortalik\n",
      "Processing Record 2 of Set 4 : port elizabeth\n",
      "Processing Record 3 of Set 4 : parit raja\n",
      "Processing Record 4 of Set 4 : kahului\n",
      "Processing Record 5 of Set 4 : charagua\n",
      "Processing Record 6 of Set 4 : oum hadjer\n",
      "Processing Record 7 of Set 4 : marrakesh\n",
      "Processing Record 8 of Set 4 : umbauba\n",
      "Processing Record 9 of Set 4 : novo aripuana\n",
      "Processing Record 10 of Set 4 : mar del plata\n",
      "Processing Record 11 of Set 4 : xining\n",
      "Processing Record 12 of Set 4 : victoria\n",
      "Processing Record 13 of Set 4 : vissenbjerg\n",
      "Processing Record 14 of Set 4 : tasiilaq\n",
      "Processing Record 15 of Set 4 : kapit\n",
      "Processing Record 16 of Set 4 : saint anthony\n",
      "Processing Record 17 of Set 4 : grand gaube\n",
      "Processing Record 18 of Set 4 : barquisimeto\n",
      "Processing Record 19 of Set 4 : saint-augustin\n",
      "Processing Record 20 of Set 4 : suhbaatar\n",
      "Processing Record 21 of Set 4 : shiyan\n",
      "Processing Record 22 of Set 4 : galeana\n",
      "Processing Record 23 of Set 4 : karwar\n",
      "Processing Record 24 of Set 4 : tahe\n",
      "Processing Record 25 of Set 4 : domoni\n",
      "City not found. Skipping...\n",
      "Processing Record 26 of Set 4 : north platte\n",
      "City not found. Skipping...\n",
      "Processing Record 27 of Set 4 : fairbanks\n",
      "Processing Record 28 of Set 4 : samashki\n",
      "Processing Record 29 of Set 4 : port alfred\n",
      "City not found. Skipping...\n",
      "Processing Record 30 of Set 4 : saldanha\n",
      "Processing Record 31 of Set 4 : te anau\n",
      "Processing Record 32 of Set 4 : sao filipe\n",
      "Processing Record 33 of Set 4 : bosaso\n",
      "Processing Record 34 of Set 4 : bethel\n",
      "Processing Record 35 of Set 4 : marawi\n",
      "Processing Record 36 of Set 4 : ponta do sol\n",
      "Processing Record 37 of Set 4 : bantry\n",
      "Processing Record 38 of Set 4 : yar-sale\n",
      "Processing Record 39 of Set 4 : severo-kurilsk\n"
     ]
    },
    {
     "name": "stdout",
     "output_type": "stream",
     "text": [
      "Processing Record 40 of Set 4 : tres picos\n",
      "Processing Record 41 of Set 4 : guerrero negro\n",
      "Processing Record 42 of Set 4 : pangnirtung\n",
      "Processing Record 43 of Set 4 : chokurdakh\n",
      "Processing Record 44 of Set 4 : soe\n",
      "Processing Record 45 of Set 4 : terrace\n",
      "Processing Record 46 of Set 4 : sola\n",
      "Processing Record 47 of Set 4 : new norfolk\n",
      "Processing Record 48 of Set 4 : kidal\n",
      "Processing Record 49 of Set 4 : dalbandin\n",
      "City not found. Skipping...\n",
      "Processing Record 50 of Set 4 : namatanai\n",
      "City not found. Skipping...\n",
      "Processing Record 0 of Set 5 : burnie\n",
      "Processing Record 1 of Set 5 : lorengau\n",
      "Processing Record 2 of Set 5 : ribeira grande\n",
      "Processing Record 3 of Set 5 : altamira\n",
      "Processing Record 4 of Set 5 : yunyang\n",
      "Processing Record 5 of Set 5 : belmira\n",
      "Processing Record 6 of Set 5 : ati\n",
      "Processing Record 7 of Set 5 : yumen\n",
      "Processing Record 8 of Set 5 : tooele\n",
      "Processing Record 9 of Set 5 : cabo san lucas\n",
      "Processing Record 10 of Set 5 : ligatne\n",
      "Processing Record 11 of Set 5 : kaitangata\n",
      "Processing Record 12 of Set 5 : tommot\n",
      "Processing Record 13 of Set 5 : klaksvik\n",
      "Processing Record 14 of Set 5 : norden\n",
      "City not found. Skipping...\n",
      "Processing Record 15 of Set 5 : olafsvik\n",
      "Processing Record 16 of Set 5 : tabou\n",
      "Processing Record 17 of Set 5 : hovd\n",
      "Processing Record 18 of Set 5 : pisco\n",
      "Processing Record 19 of Set 5 : san ignacio\n",
      "Processing Record 20 of Set 5 : rio gallegos\n",
      "Processing Record 21 of Set 5 : aykhal\n",
      "Processing Record 22 of Set 5 : iqaluit\n",
      "Processing Record 23 of Set 5 : port hardy\n",
      "Processing Record 24 of Set 5 : arraial do cabo\n",
      "Processing Record 25 of Set 5 : nuuk\n",
      "Processing Record 26 of Set 5 : clarence town\n",
      "Processing Record 27 of Set 5 : tessalit\n",
      "Processing Record 28 of Set 5 : umm lajj\n",
      "Processing Record 29 of Set 5 : cedar city\n",
      "City not found. Skipping...\n",
      "Processing Record 30 of Set 5 : ekhabi\n",
      "Processing Record 31 of Set 5 : belmonte\n",
      "Processing Record 32 of Set 5 : georgetown\n",
      "Processing Record 33 of Set 5 : souillac\n",
      "Processing Record 34 of Set 5 : husavik\n",
      "Processing Record 35 of Set 5 : avera\n",
      "Processing Record 36 of Set 5 : mount isa\n",
      "Processing Record 37 of Set 5 : nouadhibou\n",
      "Processing Record 38 of Set 5 : sechura\n",
      "Processing Record 39 of Set 5 : hithadhoo\n",
      "City not found. Skipping...\n",
      "Processing Record 40 of Set 5 : formosa\n",
      "Processing Record 41 of Set 5 : kiboga\n",
      "Processing Record 42 of Set 5 : torbay\n",
      "Processing Record 43 of Set 5 : dicabisagan\n",
      "Processing Record 44 of Set 5 : hofn\n",
      "Processing Record 45 of Set 5 : lithakia\n",
      "City not found. Skipping...\n",
      "Processing Record 46 of Set 5 : erzin\n",
      "Processing Record 47 of Set 5 : makushino\n",
      "Processing Record 48 of Set 5 : springbok\n",
      "Processing Record 49 of Set 5 : mareeba\n",
      "Processing Record 50 of Set 5 : sayyan\n",
      "Processing Record 0 of Set 6 : sorland\n",
      "Processing Record 1 of Set 6 : albanel\n",
      "Processing Record 2 of Set 6 : kinsale\n",
      "Processing Record 3 of Set 6 : tura\n",
      "City not found. Skipping...\n",
      "Processing Record 4 of Set 6 : tuatapere\n",
      "Processing Record 5 of Set 6 : zhezkazgan\n",
      "City not found. Skipping...\n",
      "Processing Record 6 of Set 6 : aklavik\n",
      "Processing Record 7 of Set 6 : alta floresta\n",
      "Processing Record 8 of Set 6 : tilichiki\n",
      "Processing Record 9 of Set 6 : isiro\n",
      "Processing Record 10 of Set 6 : montrose\n",
      "Processing Record 11 of Set 6 : buala\n",
      "Processing Record 12 of Set 6 : genhe\n",
      "Processing Record 13 of Set 6 : greymouth\n",
      "Processing Record 14 of Set 6 : dumas\n",
      "Processing Record 15 of Set 6 : bengkulu\n",
      "Processing Record 16 of Set 6 : teluknaga\n",
      "Processing Record 17 of Set 6 : bubaque\n",
      "Processing Record 18 of Set 6 : pevek\n",
      "Processing Record 19 of Set 6 : geraldton\n",
      "Processing Record 20 of Set 6 : banda aceh\n",
      "Processing Record 21 of Set 6 : vigrestad\n",
      "Processing Record 22 of Set 6 : shediac\n",
      "Processing Record 23 of Set 6 : richards bay\n",
      "Processing Record 24 of Set 6 : vanimo\n",
      "Processing Record 25 of Set 6 : lucapa\n",
      "Processing Record 26 of Set 6 : qeshm\n",
      "Processing Record 27 of Set 6 : kungurtug\n",
      "Processing Record 28 of Set 6 : southbridge\n",
      "Processing Record 29 of Set 6 : pitea\n",
      "Processing Record 30 of Set 6 : yermish\n",
      "Processing Record 31 of Set 6 : general pico\n",
      "Processing Record 32 of Set 6 : nabire\n",
      "City not found. Skipping...\n",
      "Processing Record 33 of Set 6 : acapulco\n",
      "Processing Record 34 of Set 6 : bentiu\n",
      "Processing Record 35 of Set 6 : san andres\n",
      "Processing Record 36 of Set 6 : hamilton\n",
      "Processing Record 37 of Set 6 : escanaba\n",
      "Processing Record 38 of Set 6 : pitimbu\n",
      "City not found. Skipping...\n",
      "Processing Record 39 of Set 6 : prachuap khiri khan\n",
      "Processing Record 40 of Set 6 : los llanos de aridane\n",
      "Processing Record 41 of Set 6 : kandrian\n",
      "Processing Record 42 of Set 6 : bathsheba\n",
      "Processing Record 43 of Set 6 : weatherford\n",
      "Processing Record 44 of Set 6 : hobyo\n",
      "Processing Record 45 of Set 6 : quatre cocos\n",
      "Processing Record 46 of Set 6 : sumbawanga\n",
      "Processing Record 47 of Set 6 : san carlos de bariloche\n",
      "Processing Record 48 of Set 6 : lethem\n",
      "Processing Record 49 of Set 6 : harsin\n",
      "Processing Record 50 of Set 6 : cidreira\n",
      "Processing Record 0 of Set 7 : moose factory\n",
      "Processing Record 1 of Set 7 : brits\n",
      "Processing Record 2 of Set 7 : naze\n",
      "Processing Record 3 of Set 7 : poya\n",
      "Processing Record 4 of Set 7 : praia\n",
      "Processing Record 5 of Set 7 : karapyshi\n",
      "Processing Record 6 of Set 7 : cuajinicuilapa\n",
      "Processing Record 7 of Set 7 : wanning\n",
      "Processing Record 8 of Set 7 : okhotsk\n",
      "Processing Record 9 of Set 7 : sosnovo-ozerskoye\n",
      "Processing Record 10 of Set 7 : mahibadhoo\n",
      "Processing Record 11 of Set 7 : canutama\n",
      "Processing Record 12 of Set 7 : bilibino\n",
      "Processing Record 13 of Set 7 : biak\n",
      "Processing Record 14 of Set 7 : esso\n",
      "City not found. Skipping...\n",
      "Processing Record 15 of Set 7 : nago\n",
      "Processing Record 16 of Set 7 : meulaboh\n",
      "Processing Record 17 of Set 7 : camopi\n",
      "Processing Record 18 of Set 7 : belyy yar\n",
      "Processing Record 19 of Set 7 : muli\n",
      "Processing Record 20 of Set 7 : mirnyy\n",
      "Processing Record 21 of Set 7 : ketchikan\n",
      "Processing Record 22 of Set 7 : ponta delgada\n",
      "Processing Record 23 of Set 7 : kargasok\n",
      "Processing Record 24 of Set 7 : varnamo\n",
      "Processing Record 25 of Set 7 : namibe\n",
      "Processing Record 26 of Set 7 : chapais\n",
      "Processing Record 27 of Set 7 : concordia\n",
      "Processing Record 28 of Set 7 : putai\n",
      "Processing Record 29 of Set 7 : luau\n",
      "City not found. Skipping...\n",
      "Processing Record 30 of Set 7 : radyvyliv\n",
      "Processing Record 31 of Set 7 : samarai\n",
      "Processing Record 32 of Set 7 : andros town\n",
      "Processing Record 33 of Set 7 : vao\n",
      "City not found. Skipping...\n",
      "Processing Record 34 of Set 7 : port lincoln\n",
      "Processing Record 35 of Set 7 : ust-tsilma\n",
      "City not found. Skipping...\n",
      "City not found. Skipping...\n",
      "City not found. Skipping...\n",
      "Processing Record 36 of Set 7 : viedma\n",
      "Processing Record 37 of Set 7 : stroitel\n",
      "Processing Record 38 of Set 7 : uvat\n",
      "City not found. Skipping...\n",
      "Processing Record 39 of Set 7 : saint-pierre\n",
      "Processing Record 40 of Set 7 : slonim\n",
      "Processing Record 41 of Set 7 : matay\n",
      "Processing Record 42 of Set 7 : nyurba\n",
      "Processing Record 43 of Set 7 : taltal\n",
      "Processing Record 44 of Set 7 : poli\n",
      "Processing Record 45 of Set 7 : rabo de peixe\n",
      "Processing Record 46 of Set 7 : rayong\n",
      "Processing Record 47 of Set 7 : nishihara\n",
      "Processing Record 48 of Set 7 : alice springs\n",
      "Processing Record 49 of Set 7 : san juan de los lagos\n",
      "Processing Record 50 of Set 7 : parnamirim\n",
      "Processing Record 0 of Set 8 : yaan\n",
      "Processing Record 1 of Set 8 : hervey bay\n",
      "Processing Record 2 of Set 8 : kousseri\n",
      "Processing Record 3 of Set 8 : leningradskiy\n",
      "Processing Record 4 of Set 8 : panama city\n",
      "Processing Record 5 of Set 8 : rawson\n",
      "Processing Record 6 of Set 8 : lebu\n",
      "Processing Record 7 of Set 8 : wattegama\n",
      "Processing Record 8 of Set 8 : lixourion\n",
      "Processing Record 9 of Set 8 : huangmei\n",
      "Processing Record 10 of Set 8 : goroka\n",
      "Processing Record 11 of Set 8 : pacifica\n",
      "City not found. Skipping...\n",
      "Processing Record 12 of Set 8 : freeport\n",
      "Processing Record 13 of Set 8 : yulara\n",
      "Processing Record 14 of Set 8 : praia da vitoria\n",
      "Processing Record 15 of Set 8 : naujoji akmene\n",
      "Processing Record 16 of Set 8 : songea\n",
      "Processing Record 17 of Set 8 : kikwit\n",
      "Processing Record 18 of Set 8 : oussouye\n",
      "Processing Record 19 of Set 8 : dwarka\n",
      "City not found. Skipping...\n",
      "Processing Record 20 of Set 8 : polovinnoye\n",
      "Processing Record 21 of Set 8 : colon\n",
      "Processing Record 22 of Set 8 : antalaha\n",
      "Processing Record 23 of Set 8 : suzun\n"
     ]
    },
    {
     "name": "stdout",
     "output_type": "stream",
     "text": [
      "Processing Record 24 of Set 8 : puerto gaitan\n",
      "Processing Record 25 of Set 8 : kruisfontein\n",
      "Processing Record 26 of Set 8 : portland\n",
      "Processing Record 27 of Set 8 : acarau\n",
      "Processing Record 28 of Set 8 : mahajanga\n",
      "City not found. Skipping...\n",
      "Processing Record 29 of Set 8 : juodupe\n",
      "Processing Record 30 of Set 8 : palmas bellas\n",
      "Processing Record 31 of Set 8 : megion\n",
      "Processing Record 32 of Set 8 : salina cruz\n",
      "Processing Record 33 of Set 8 : sakaiminato\n",
      "Processing Record 34 of Set 8 : tocopilla\n",
      "Processing Record 35 of Set 8 : yerbogachen\n",
      "Processing Record 36 of Set 8 : krasne\n",
      "Processing Record 37 of Set 8 : damaturu\n",
      "Processing Record 38 of Set 8 : at-bashi\n",
      "Processing Record 39 of Set 8 : verkhoyansk\n",
      "Processing Record 40 of Set 8 : yining\n",
      "Processing Record 41 of Set 8 : belaya gora\n",
      "Processing Record 42 of Set 8 : kavieng\n",
      "Processing Record 43 of Set 8 : amargosa\n",
      "Processing Record 44 of Set 8 : bairiki\n",
      "Processing Record 45 of Set 8 : iralaya\n",
      "Processing Record 46 of Set 8 : goundi\n",
      "Processing Record 47 of Set 8 : fredericksburg\n",
      "Processing Record 48 of Set 8 : pueblo bello\n",
      "Processing Record 49 of Set 8 : orange\n",
      "City not found. Skipping...\n",
      "Processing Record 50 of Set 8 : dauphin\n",
      "Processing Record 0 of Set 9 : lasa\n",
      "Processing Record 1 of Set 9 : tiarei\n",
      "Processing Record 2 of Set 9 : yakeshi\n",
      "Processing Record 3 of Set 9 : kirovsk\n",
      "Processing Record 4 of Set 9 : bekwai\n",
      "Processing Record 5 of Set 9 : anadyr\n",
      "Processing Record 6 of Set 9 : killybegs\n",
      "Processing Record 7 of Set 9 : moyale\n",
      "Processing Record 8 of Set 9 : bulgan\n",
      "Processing Record 9 of Set 9 : placerville\n",
      "Processing Record 10 of Set 9 : quesnel\n",
      "Processing Record 11 of Set 9 : zelenoborskiy\n",
      "Processing Record 12 of Set 9 : vestmannaeyjar\n",
      "Processing Record 13 of Set 9 : vila velha\n",
      "Processing Record 14 of Set 9 : eganville\n",
      "Processing Record 15 of Set 9 : letlhakane\n",
      "Processing Record 16 of Set 9 : darnah\n",
      "Processing Record 17 of Set 9 : grindavik\n",
      "Processing Record 18 of Set 9 : corinto\n",
      "City not found. Skipping...\n",
      "Processing Record 19 of Set 9 : hulan\n",
      "Processing Record 20 of Set 9 : matagami\n",
      "Processing Record 21 of Set 9 : kaeo\n",
      "Processing Record 22 of Set 9 : broken hill\n",
      "City not found. Skipping...\n",
      "Processing Record 23 of Set 9 : tvoroyri\n",
      "Processing Record 24 of Set 9 : kitui\n",
      "Processing Record 25 of Set 9 : cockburn town\n",
      "City not found. Skipping...\n",
      "Processing Record 26 of Set 9 : elko\n",
      "Processing Record 27 of Set 9 : guaruja\n",
      "Processing Record 28 of Set 9 : yeniseysk\n",
      "Processing Record 29 of Set 9 : manakara\n",
      "Processing Record 30 of Set 9 : komsomolskiy\n",
      "Processing Record 31 of Set 9 : ondo\n",
      "Processing Record 32 of Set 9 : honningsvag\n",
      "Processing Record 33 of Set 9 : imperia\n",
      "Processing Record 34 of Set 9 : sitamau\n",
      "Processing Record 35 of Set 9 : iaciara\n",
      "Processing Record 36 of Set 9 : port-gentil\n",
      "Processing Record 37 of Set 9 : groa\n",
      "Processing Record 38 of Set 9 : kalmunai\n",
      "Processing Record 39 of Set 9 : saiha\n",
      "Processing Record 40 of Set 9 : vieux fort\n",
      "Processing Record 41 of Set 9 : mwingi\n",
      "City not found. Skipping...\n",
      "Processing Record 42 of Set 9 : pemba\n",
      "Processing Record 43 of Set 9 : mehamn\n",
      "Processing Record 44 of Set 9 : yarensk\n",
      "Processing Record 45 of Set 9 : sao joao dos patos\n",
      "Processing Record 46 of Set 9 : jalu\n",
      "Processing Record 47 of Set 9 : bayir\n",
      "Processing Record 48 of Set 9 : marsa matruh\n",
      "City not found. Skipping...\n",
      "Processing Record 49 of Set 9 : manono\n",
      "Processing Record 50 of Set 9 : wertheim\n",
      "Processing Record 0 of Set 10 : baruun-urt\n",
      "Processing Record 1 of Set 10 : barcelos\n",
      "Processing Record 2 of Set 10 : arlit\n",
      "City not found. Skipping...\n",
      "Processing Record 3 of Set 10 : pochutla\n",
      "Processing Record 4 of Set 10 : irsha\n",
      "City not found. Skipping...\n",
      "Processing Record 5 of Set 10 : nichinan\n",
      "Processing Record 6 of Set 10 : ust-kulom\n",
      "Processing Record 7 of Set 10 : bay city\n",
      "Processing Record 8 of Set 10 : orel-izumrud\n",
      "Processing Record 9 of Set 10 : khash\n",
      "Processing Record 10 of Set 10 : nandikotkur\n",
      "Processing Record 11 of Set 10 : marale\n",
      "Processing Record 12 of Set 10 : storforshei\n",
      "Processing Record 13 of Set 10 : lepley\n",
      "Processing Record 14 of Set 10 : zaraza\n",
      "Processing Record 15 of Set 10 : gazalkent\n",
      "Processing Record 16 of Set 10 : rapid valley\n",
      "Processing Record 17 of Set 10 : takefu\n",
      "Processing Record 18 of Set 10 : pandan\n",
      "Processing Record 19 of Set 10 : ilulissat\n",
      "Processing Record 20 of Set 10 : soavinandriana\n",
      "Processing Record 21 of Set 10 : araouane\n",
      "Processing Record 22 of Set 10 : hami\n",
      "Processing Record 23 of Set 10 : hammonton\n",
      "Processing Record 24 of Set 10 : kamphaeng phet\n",
      "Processing Record 25 of Set 10 : palmer\n",
      "City not found. Skipping...\n",
      "Processing Record 26 of Set 10 : salamanca\n",
      "Processing Record 27 of Set 10 : tezu\n",
      "Processing Record 28 of Set 10 : corcoran\n",
      "Processing Record 29 of Set 10 : kyra\n",
      "Processing Record 30 of Set 10 : katsuura\n",
      "Processing Record 31 of Set 10 : tual\n",
      "Processing Record 32 of Set 10 : shush\n",
      "Processing Record 33 of Set 10 : codrington\n",
      "Processing Record 34 of Set 10 : dubai\n",
      "Processing Record 35 of Set 10 : kudahuvadhoo\n",
      "Processing Record 36 of Set 10 : lai\n",
      "Processing Record 37 of Set 10 : ewa beach\n",
      "Processing Record 38 of Set 10 : honiara\n",
      "Processing Record 39 of Set 10 : ulaanbaatar\n",
      "Processing Record 40 of Set 10 : touros\n",
      "Processing Record 41 of Set 10 : high level\n",
      "Processing Record 42 of Set 10 : prince rupert\n",
      "Processing Record 43 of Set 10 : aksu\n",
      "Processing Record 44 of Set 10 : keokuk\n",
      "Processing Record 45 of Set 10 : ganzhou\n",
      "Processing Record 46 of Set 10 : el rincon\n",
      "Processing Record 47 of Set 10 : bonavista\n",
      "Processing Record 48 of Set 10 : salalah\n",
      "Processing Record 49 of Set 10 : vardo\n",
      "Processing Record 50 of Set 10 : namtsy\n",
      "Processing Record 0 of Set 11 : roma\n",
      "Processing Record 1 of Set 11 : san pedro\n",
      "Processing Record 2 of Set 11 : aanekoski\n",
      "Processing Record 3 of Set 11 : sao felix do xingu\n",
      "Processing Record 4 of Set 11 : fillan\n",
      "City not found. Skipping...\n",
      "City not found. Skipping...\n",
      "City not found. Skipping...\n",
      "Processing Record 5 of Set 11 : ruza\n",
      "Processing Record 6 of Set 11 : nome\n",
      "Processing Record 7 of Set 11 : lufilufi\n",
      "Processing Record 8 of Set 11 : safaga\n",
      "Processing Record 9 of Set 11 : hambantota\n",
      "Processing Record 10 of Set 11 : mbandaka\n",
      "Processing Record 11 of Set 11 : clyde river\n",
      "City not found. Skipping...\n",
      "Processing Record 12 of Set 11 : la ronge\n",
      "Processing Record 13 of Set 11 : nelson bay\n",
      "Processing Record 14 of Set 11 : asmara\n",
      "Processing Record 15 of Set 11 : paso de carrasco\n",
      "Processing Record 16 of Set 11 : girua\n",
      "Processing Record 17 of Set 11 : kaka\n",
      "Processing Record 18 of Set 11 : gat\n",
      "Processing Record 19 of Set 11 : rach gia\n",
      "Processing Record 20 of Set 11 : otradnoye\n",
      "Processing Record 21 of Set 11 : san vicente\n",
      "Processing Record 22 of Set 11 : svetlyy\n",
      "Processing Record 23 of Set 11 : balsta\n",
      "Processing Record 24 of Set 11 : chute-aux-outardes\n",
      "Processing Record 25 of Set 11 : zephyrhills\n",
      "Processing Record 26 of Set 11 : lakselv\n",
      "Processing Record 27 of Set 11 : turkistan\n",
      "Processing Record 28 of Set 11 : illapel\n",
      "Processing Record 29 of Set 11 : mayna\n",
      "Processing Record 30 of Set 11 : mount pleasant\n",
      "Processing Record 31 of Set 11 : puerto escondido\n",
      "City not found. Skipping...\n",
      "Processing Record 32 of Set 11 : hanzhong\n",
      "Processing Record 33 of Set 11 : ambovombe\n",
      "Processing Record 34 of Set 11 : loandjili\n",
      "Processing Record 35 of Set 11 : terrell\n",
      "Processing Record 36 of Set 11 : hualmay\n",
      "Processing Record 37 of Set 11 : manjacaze\n",
      "Processing Record 38 of Set 11 : kendari\n",
      "City not found. Skipping...\n",
      "Processing Record 39 of Set 11 : dindori\n",
      "Processing Record 40 of Set 11 : luino\n",
      "Processing Record 41 of Set 11 : nantucket\n",
      "Processing Record 42 of Set 11 : sinegorskiy\n",
      "Processing Record 43 of Set 11 : kamenka\n",
      "Processing Record 44 of Set 11 : mulege\n",
      "Processing Record 45 of Set 11 : buchanan\n",
      "Processing Record 46 of Set 11 : san jose\n",
      "Processing Record 47 of Set 11 : burns lake\n",
      "Processing Record 48 of Set 11 : sendai\n",
      "Processing Record 49 of Set 11 : medicine hat\n",
      "Processing Record 50 of Set 11 : puerto del rosario\n",
      "Processing Record 0 of Set 12 : luang prabang\n",
      "Processing Record 1 of Set 12 : mirante do paranapanema\n",
      "Processing Record 2 of Set 12 : pudozh\n",
      "Processing Record 3 of Set 12 : warmbad\n",
      "Processing Record 4 of Set 12 : road town\n",
      "City not found. Skipping...\n",
      "Processing Record 5 of Set 12 : mandalgovi\n"
     ]
    },
    {
     "name": "stdout",
     "output_type": "stream",
     "text": [
      "Processing Record 6 of Set 12 : harstad\n",
      "Processing Record 7 of Set 12 : hue\n",
      "Processing Record 8 of Set 12 : diego de almagro\n",
      "Processing Record 9 of Set 12 : kloulklubed\n",
      "Processing Record 10 of Set 12 : sept-iles\n",
      "Processing Record 11 of Set 12 : college\n",
      "City not found. Skipping...\n",
      "-------------------------------\n",
      "Data Retrieval Complete\n",
      "-------------------------------\n"
     ]
    }
   ],
   "source": [
    "print(\"Beginning Data Retrieval \")\n",
    "print(\"-------------------------------\")\n",
    "\n",
    "# For loop matching city names with cities\n",
    "for index, city in enumerate(cities, start = 1):\n",
    "    try:\n",
    "        response = requests.get(url + city).json()\n",
    "        new_cities.append(response[\"name\"])\n",
    "        cloud.append(response[\"clouds\"][\"all\"])\n",
    "        country.append(response[\"sys\"][\"country\"])\n",
    "        date.append(response[\"dt\"])\n",
    "        humidity.append(response[\"main\"][\"humidity\"])\n",
    "        lats.append(response[\"coord\"][\"lat\"])\n",
    "        longs.append(response[\"coord\"][\"lon\"])\n",
    "        temp.append(response['main']['temp_max'])\n",
    "        wind.append(response[\"wind\"][\"speed\"])\n",
    "        if index_counter > 49:\n",
    "            index_counter = 0\n",
    "            set_counter = set_counter + 1\n",
    "        \n",
    "        else:\n",
    "            index_counter = index_counter + 1\n",
    "        \n",
    "        print(f\"Processing Record {index_counter} of Set {set_counter} : {city}\")\n",
    "        \n",
    "    except(KeyError, IndexError):\n",
    "        print(\"City not found. Skipping...\")\n",
    "        \n",
    "        \n",
    "print(\"-------------------------------\")\n",
    "print(\"Data Retrieval Complete\")\n",
    "print(\"-------------------------------\")"
   ]
  },
  {
   "cell_type": "markdown",
   "metadata": {},
   "source": [
    "### Convert Raw Data to DataFrame\n",
    "* Export the city data into a .csv.\n",
    "* Display the DataFrame"
   ]
  },
  {
   "cell_type": "code",
   "execution_count": 6,
   "metadata": {},
   "outputs": [],
   "source": [
    " #Create a dataframe using information from data retrieval\n",
    "weather_dict = ({\"City\" : new_cities, \n",
    "                 \"Lat\" : lats, \n",
    "                 \"Long\" : longs, \n",
    "                 \"Max Temp\" : temp,                            \n",
    "                 \"Humidity\" : humidity, \n",
    "                 \"Clouds\" : cloud, \n",
    "                 \"Wind Speed\" : wind, \n",
    "                 \"Country\" : country, \n",
    "                 \"Date\" : date\n",
    "                 })\n",
    "\n",
    "weather_data = pd.DataFrame(weather_dict)"
   ]
  },
  {
   "cell_type": "code",
   "execution_count": 7,
   "metadata": {},
   "outputs": [
    {
     "data": {
      "text/plain": [
       "City          572\n",
       "Lat           572\n",
       "Long          572\n",
       "Max Temp      572\n",
       "Humidity      572\n",
       "Clouds        572\n",
       "Wind Speed    572\n",
       "Country       572\n",
       "Date          572\n",
       "dtype: int64"
      ]
     },
     "execution_count": 7,
     "metadata": {},
     "output_type": "execute_result"
    }
   ],
   "source": [
    "# Count weather data\n",
    "weather_data.count()"
   ]
  },
  {
   "cell_type": "code",
   "execution_count": 8,
   "metadata": {},
   "outputs": [
    {
     "data": {
      "text/html": [
       "<div>\n",
       "<style scoped>\n",
       "    .dataframe tbody tr th:only-of-type {\n",
       "        vertical-align: middle;\n",
       "    }\n",
       "\n",
       "    .dataframe tbody tr th {\n",
       "        vertical-align: top;\n",
       "    }\n",
       "\n",
       "    .dataframe thead th {\n",
       "        text-align: right;\n",
       "    }\n",
       "</style>\n",
       "<table border=\"1\" class=\"dataframe\">\n",
       "  <thead>\n",
       "    <tr style=\"text-align: right;\">\n",
       "      <th></th>\n",
       "      <th>City</th>\n",
       "      <th>Lat</th>\n",
       "      <th>Long</th>\n",
       "      <th>Max Temp</th>\n",
       "      <th>Humidity</th>\n",
       "      <th>Clouds</th>\n",
       "      <th>Wind Speed</th>\n",
       "      <th>Country</th>\n",
       "      <th>Date</th>\n",
       "    </tr>\n",
       "  </thead>\n",
       "  <tbody>\n",
       "    <tr>\n",
       "      <th>0</th>\n",
       "      <td>Busselton</td>\n",
       "      <td>-33.65</td>\n",
       "      <td>115.33</td>\n",
       "      <td>63.00</td>\n",
       "      <td>38</td>\n",
       "      <td>50</td>\n",
       "      <td>12.73</td>\n",
       "      <td>AU</td>\n",
       "      <td>1603548173</td>\n",
       "    </tr>\n",
       "    <tr>\n",
       "      <th>1</th>\n",
       "      <td>Tiksi</td>\n",
       "      <td>71.69</td>\n",
       "      <td>128.87</td>\n",
       "      <td>11.41</td>\n",
       "      <td>91</td>\n",
       "      <td>39</td>\n",
       "      <td>15.79</td>\n",
       "      <td>RU</td>\n",
       "      <td>1603548255</td>\n",
       "    </tr>\n",
       "    <tr>\n",
       "      <th>2</th>\n",
       "      <td>Lavrentiya</td>\n",
       "      <td>65.58</td>\n",
       "      <td>-171.00</td>\n",
       "      <td>32.59</td>\n",
       "      <td>93</td>\n",
       "      <td>93</td>\n",
       "      <td>5.61</td>\n",
       "      <td>RU</td>\n",
       "      <td>1603548255</td>\n",
       "    </tr>\n",
       "    <tr>\n",
       "      <th>3</th>\n",
       "      <td>St. George's</td>\n",
       "      <td>12.06</td>\n",
       "      <td>-61.75</td>\n",
       "      <td>87.80</td>\n",
       "      <td>74</td>\n",
       "      <td>40</td>\n",
       "      <td>23.04</td>\n",
       "      <td>GD</td>\n",
       "      <td>1603547997</td>\n",
       "    </tr>\n",
       "    <tr>\n",
       "      <th>4</th>\n",
       "      <td>Madera</td>\n",
       "      <td>37.17</td>\n",
       "      <td>-119.83</td>\n",
       "      <td>57.00</td>\n",
       "      <td>62</td>\n",
       "      <td>26</td>\n",
       "      <td>1.66</td>\n",
       "      <td>US</td>\n",
       "      <td>1603548255</td>\n",
       "    </tr>\n",
       "    <tr>\n",
       "      <th>5</th>\n",
       "      <td>Asău</td>\n",
       "      <td>46.43</td>\n",
       "      <td>26.40</td>\n",
       "      <td>63.00</td>\n",
       "      <td>68</td>\n",
       "      <td>100</td>\n",
       "      <td>4.00</td>\n",
       "      <td>RO</td>\n",
       "      <td>1603548255</td>\n",
       "    </tr>\n",
       "    <tr>\n",
       "      <th>6</th>\n",
       "      <td>Florianópolis</td>\n",
       "      <td>-27.61</td>\n",
       "      <td>-48.50</td>\n",
       "      <td>79.00</td>\n",
       "      <td>78</td>\n",
       "      <td>40</td>\n",
       "      <td>9.17</td>\n",
       "      <td>BR</td>\n",
       "      <td>1603548255</td>\n",
       "    </tr>\n",
       "    <tr>\n",
       "      <th>7</th>\n",
       "      <td>Monrovia</td>\n",
       "      <td>6.30</td>\n",
       "      <td>-10.80</td>\n",
       "      <td>86.00</td>\n",
       "      <td>74</td>\n",
       "      <td>75</td>\n",
       "      <td>7.14</td>\n",
       "      <td>LR</td>\n",
       "      <td>1603548255</td>\n",
       "    </tr>\n",
       "    <tr>\n",
       "      <th>8</th>\n",
       "      <td>Hermanus</td>\n",
       "      <td>-34.42</td>\n",
       "      <td>19.23</td>\n",
       "      <td>73.99</td>\n",
       "      <td>67</td>\n",
       "      <td>85</td>\n",
       "      <td>5.01</td>\n",
       "      <td>ZA</td>\n",
       "      <td>1603548255</td>\n",
       "    </tr>\n",
       "    <tr>\n",
       "      <th>9</th>\n",
       "      <td>Provideniya</td>\n",
       "      <td>64.38</td>\n",
       "      <td>-173.30</td>\n",
       "      <td>32.47</td>\n",
       "      <td>95</td>\n",
       "      <td>88</td>\n",
       "      <td>15.30</td>\n",
       "      <td>RU</td>\n",
       "      <td>1603548255</td>\n",
       "    </tr>\n",
       "  </tbody>\n",
       "</table>\n",
       "</div>"
      ],
      "text/plain": [
       "            City    Lat    Long  Max Temp  Humidity  Clouds  Wind Speed  \\\n",
       "0      Busselton -33.65  115.33     63.00        38      50       12.73   \n",
       "1          Tiksi  71.69  128.87     11.41        91      39       15.79   \n",
       "2     Lavrentiya  65.58 -171.00     32.59        93      93        5.61   \n",
       "3   St. George's  12.06  -61.75     87.80        74      40       23.04   \n",
       "4         Madera  37.17 -119.83     57.00        62      26        1.66   \n",
       "5           Asău  46.43   26.40     63.00        68     100        4.00   \n",
       "6  Florianópolis -27.61  -48.50     79.00        78      40        9.17   \n",
       "7       Monrovia   6.30  -10.80     86.00        74      75        7.14   \n",
       "8       Hermanus -34.42   19.23     73.99        67      85        5.01   \n",
       "9    Provideniya  64.38 -173.30     32.47        95      88       15.30   \n",
       "\n",
       "  Country        Date  \n",
       "0      AU  1603548173  \n",
       "1      RU  1603548255  \n",
       "2      RU  1603548255  \n",
       "3      GD  1603547997  \n",
       "4      US  1603548255  \n",
       "5      RO  1603548255  \n",
       "6      BR  1603548255  \n",
       "7      LR  1603548255  \n",
       "8      ZA  1603548255  \n",
       "9      RU  1603548255  "
      ]
     },
     "execution_count": 8,
     "metadata": {},
     "output_type": "execute_result"
    }
   ],
   "source": [
    "# Display dataframe\n",
    "weather_data.head(10)"
   ]
  },
  {
   "cell_type": "code",
   "execution_count": 11,
   "metadata": {},
   "outputs": [],
   "source": [
    "#Save weather data to a csv file\n",
    "weather_data.to_csv(\"output_data/cities.csv\", index=False)"
   ]
  },
  {
   "cell_type": "markdown",
   "metadata": {},
   "source": [
    "## Inspect the data and remove the cities where the humidity > 100%.\n",
    "----\n",
    "Skip this step if there are no cities that have humidity > 100%. "
   ]
  },
  {
   "cell_type": "code",
   "execution_count": 12,
   "metadata": {},
   "outputs": [
    {
     "data": {
      "text/html": [
       "<div>\n",
       "<style scoped>\n",
       "    .dataframe tbody tr th:only-of-type {\n",
       "        vertical-align: middle;\n",
       "    }\n",
       "\n",
       "    .dataframe tbody tr th {\n",
       "        vertical-align: top;\n",
       "    }\n",
       "\n",
       "    .dataframe thead th {\n",
       "        text-align: right;\n",
       "    }\n",
       "</style>\n",
       "<table border=\"1\" class=\"dataframe\">\n",
       "  <thead>\n",
       "    <tr style=\"text-align: right;\">\n",
       "      <th></th>\n",
       "      <th>City</th>\n",
       "      <th>Lat</th>\n",
       "      <th>Long</th>\n",
       "      <th>Max Temp</th>\n",
       "      <th>Humidity</th>\n",
       "      <th>Clouds</th>\n",
       "      <th>Wind Speed</th>\n",
       "      <th>Country</th>\n",
       "      <th>Date</th>\n",
       "    </tr>\n",
       "  </thead>\n",
       "  <tbody>\n",
       "  </tbody>\n",
       "</table>\n",
       "</div>"
      ],
      "text/plain": [
       "Empty DataFrame\n",
       "Columns: [City, Lat, Long, Max Temp, Humidity, Clouds, Wind Speed, Country, Date]\n",
       "Index: []"
      ]
     },
     "execution_count": 12,
     "metadata": {},
     "output_type": "execute_result"
    }
   ],
   "source": [
    "#  Get the indices of cities that have humidity over 100%.\n",
    "# Make a new DataFrame equal to the city data to drop all humidity outliers by index.\n",
    "# Passing \"inplace=False\" will make a copy of the city_data DataFrame, which we call \"clean_city_data\".\n",
    "\n",
    "weather_data.loc[weather_data['Humidity'] > 100]"
   ]
  },
  {
   "cell_type": "markdown",
   "metadata": {},
   "source": [
    "##### There are no cities where the humidity is greater than 100%."
   ]
  },
  {
   "cell_type": "markdown",
   "metadata": {},
   "source": [
    "## Plotting the Data\n",
    "* Use proper labeling of the plots using plot titles (including date of analysis) and axes labels.\n",
    "* Save the plotted figures as .pngs."
   ]
  },
  {
   "cell_type": "markdown",
   "metadata": {},
   "source": [
    "## Latitude vs. Temperature Plot"
   ]
  },
  {
   "cell_type": "code",
   "execution_count": 96,
   "metadata": {
    "scrolled": true
   },
   "outputs": [
    {
     "data": {
      "image/png": "[encoded data removed]",
      "text/plain": [
       "<Figure size 432x288 with 1 Axes>"
      ]
     },
     "metadata": {
      "needs_background": "light"
     },
     "output_type": "display_data"
    }
   ],
   "source": [
    "# Latitude vs. Temperature Plot scatter plot\n",
    "plt.scatter(weather_data[\"Lat\"], weather_data[\"Max Temp\"], color = \"lightgreen\", edgecolor = \"black\")\n",
    "plt.xlabel(\"Latitude\")\n",
    "plt.ylabel(\"Max Temperature (F)\")\n",
    "plt.grid(linestyle='-', linewidth=2, alpha=0.5)\n",
    "plt.title(f\"City Latitude vs Max Temp (10/23/20)\")\n",
    "plt.savefig('Latitude vs Max Temp.png')"
   ]
  },
  {
   "cell_type": "markdown",
   "metadata": {},
   "source": [
    "## Latitude vs. Humidity Plot"
   ]
  },
  {
   "cell_type": "code",
   "execution_count": 14,
   "metadata": {},
   "outputs": [
    {
     "data": {
      "image/png": "[encoded data removed]",
      "text/plain": [
       "<Figure size 432x288 with 1 Axes>"
      ]
     },
     "metadata": {
      "needs_background": "light"
     },
     "output_type": "display_data"
    }
   ],
   "source": [
    "# Latitude vs. Humidity Plot scatter plot\n",
    "plt.scatter(weather_data[\"Lat\"], weather_data[\"Humidity\"], color = \"yellow\", edgecolor = \"black\")\n",
    "plt.xlabel(\"Latitude\")\n",
    "plt.ylabel(\"Humidity (%)\")\n",
    "plt.grid(linestyle='-', linewidth=2, alpha=0.5)\n",
    "plt.title(f\"City Latitude vs Humidity (10/23/20)\")\n",
    "plt.savefig('Latitude vs Humidity.png')"
   ]
  },
  {
   "cell_type": "markdown",
   "metadata": {},
   "source": [
    "## Latitude vs. Cloudiness Plot"
   ]
  },
  {
   "cell_type": "code",
   "execution_count": 15,
   "metadata": {},
   "outputs": [
    {
     "data": {
      "image/png": "[encoded data removed]",
      "text/plain": [
       "<Figure size 432x288 with 1 Axes>"
      ]
     },
     "metadata": {
      "needs_background": "light"
     },
     "output_type": "display_data"
    }
   ],
   "source": [
    "# Latitude vs. Cloudiness Plot scatter plot\n",
    "plt.scatter(weather_data[\"Lat\"], weather_data[\"Clouds\"], color = \"gray\", edgecolor = \"black\")\n",
    "plt.xlabel(\"Latitude\")\n",
    "plt.ylabel(\"Cloudiness (%)\")\n",
    "plt.grid(linestyle='-', linewidth=2, alpha=0.5)\n",
    "plt.title(f\"City Latitude vs Cloudiness (10/23/20)\")\n",
    "plt.savefig('Latitude vs Cloudiness.png')"
   ]
  },
  {
   "cell_type": "markdown",
   "metadata": {},
   "source": [
    "## Latitude vs. Wind Speed Plot"
   ]
  },
  {
   "cell_type": "code",
   "execution_count": 16,
   "metadata": {},
   "outputs": [
    {
     "data": {
      "image/png": "[encoded data removed]",
      "text/plain": [
       "<Figure size 432x288 with 1 Axes>"
      ]
     },
     "metadata": {
      "needs_background": "light"
     },
     "output_type": "display_data"
    }
   ],
   "source": [
    "# Latitude vs. Wind Plot scatter plot\n",
    "plt.scatter(weather_data[\"Lat\"], weather_data[\"Wind Speed\"], color = \"lightblue\", edgecolor = \"black\")\n",
    "plt.xlabel(\"Latitude\")\n",
    "plt.ylabel(\"Wind Speed (mph)\")\n",
    "plt.grid(linestyle='-', linewidth=2, alpha=0.5)\n",
    "plt.title(f\"City Latitude vs Wind Speed (10/23/20)\")\n",
    "plt.savefig('Latitude vs Wind Speed.png')"
   ]
  },
  {
   "cell_type": "markdown",
   "metadata": {},
   "source": [
    "## Linear Regression"
   ]
  },
  {
   "cell_type": "code",
   "execution_count": 41,
   "metadata": {},
   "outputs": [],
   "source": [
    "# Generate linear regression on each relationship separating them into \n",
    "# Northern Hemisphere (greater than or equal to 0 degrees latitude) \n",
    "north = weather_data.loc[pd.to_numeric(weather_data[\"Lat\"]).astype(float) >= 0.0, :]\n",
    "# and Southern Hemisphere (less than 0 degrees latitude):\n",
    "south = weather_data.loc[pd.to_numeric(weather_data[\"Lat\"]).astype(float) < 0.0, :]"
   ]
  },
  {
   "cell_type": "code",
   "execution_count": 122,
   "metadata": {},
   "outputs": [],
   "source": [
    "# Define a function to plot linear regression\n",
    "def plot_lr(x_axis, y_axis, x_label, y_label, label_pos, ifig):\n",
    "    (slope, intercept, rvalue, pvalue, stderr) = linregress(x_axis, y_axis)\n",
    "    print(f\"The r-squared is: {rvalue}\")\n",
    "    regress_values = x_axis * slope + intercept\n",
    "    line_eq = \"y = \" + str(round(slope,2)) + \"x + \" + str(round(intercept,2))\n",
    "\n",
    "    plt.scatter(x_axis, y_axis, color = \"lightgreen\", edgecolor = \"black\")\n",
    "    plt.plot(x_axis,regress_values,\"r-\")\n",
    "    plt.annotate(line_eq, label_pos, fontsize=15, color=\"red\")\n",
    "    plt.xlabel(x_label)\n",
    "    plt.ylabel(y_label)\n",
    "    plt.savefig(f\"output_data/fig{ifig}.png\")\n",
    "    plt.show()"
   ]
  },
  {
   "cell_type": "markdown",
   "metadata": {},
   "source": [
    "### Northern Hemisphere - Max Temp vs. Latitude Linear Regression"
   ]
  },
  {
   "cell_type": "code",
   "execution_count": 139,
   "metadata": {},
   "outputs": [
    {
     "name": "stdout",
     "output_type": "stream",
     "text": [
      "The r-squared is: -0.86910574200148\n"
     ]
    },
    {
     "data": {
      "image/png": "[encoded data removed]",
      "text/plain": [
       "<Figure size 432x288 with 1 Axes>"
      ]
     },
     "metadata": {
      "needs_background": "light"
     },
     "output_type": "display_data"
    }
   ],
   "source": [
    "# Define variables for linear regression of northern hemisphere and create linear regression plot function plot_lr\n",
    "x_label = \"Lat\"\n",
    "y_label = \"Max Temp\"\n",
    "label_pos = (0,15)\n",
    "plt.title(\"Northern Hemisphere - Max Temp (F) vs. Latitude\")\n",
    "plot_lr(north[x_label], north[y_label], x_label, y_label, label_pos, 5)"
   ]
  },
  {
   "cell_type": "markdown",
   "metadata": {},
   "source": [
    "### Southern Hemisphere - Max Temp vs. Latitude Linear Regression"
   ]
  },
  {
   "cell_type": "code",
   "execution_count": 140,
   "metadata": {},
   "outputs": [
    {
     "name": "stdout",
     "output_type": "stream",
     "text": [
      "The r-squared is: 0.6782443043874532\n"
     ]
    },
    {
     "data": {
      "image/png": "[encoded data removed]",
      "text/plain": [
       "<Figure size 432x288 with 1 Axes>"
      ]
     },
     "metadata": {
      "needs_background": "light"
     },
     "output_type": "display_data"
    }
   ],
   "source": [
    "# Define variables for linear regression of southern hemisphere and create linear regression plot using function plot_lr\n",
    "x_label = \"Lat\"\n",
    "y_label = \"Max Temp\"\n",
    "label_pos = (-55,95)\n",
    "plt.title(\"Southern Hemisphere - Max Temp (F) vs. Latitude\")\n",
    "plot_lr(south[x_label], south[y_label], x_label, y_label, label_pos, 6)"
   ]
  },
  {
   "cell_type": "markdown",
   "metadata": {},
   "source": [
    "###  Northern Hemisphere - Humidity (%) vs. Latitude Linear Regression"
   ]
  },
  {
   "cell_type": "code",
   "execution_count": 141,
   "metadata": {},
   "outputs": [
    {
     "name": "stdout",
     "output_type": "stream",
     "text": [
      "The r-squared is: 0.35233088313816163\n"
     ]
    },
    {
     "data": {
      "image/png": "[encoded data removed]",
      "text/plain": [
       "<Figure size 432x288 with 1 Axes>"
      ]
     },
     "metadata": {
      "needs_background": "light"
     },
     "output_type": "display_data"
    }
   ],
   "source": [
    "# Define variables for linear regression of northern hemisphere and create linear regression plot using function plot_lr\n",
    "x_label = \"Lat\"\n",
    "y_label = \"Humidity\"\n",
    "label_pos = (45,10)\n",
    "plt.title(\"Northern Hemisphere - Humitidy (%) vs. Latitude\")\n",
    "plot_lr(north[x_label], north[y_label], x_label, y_label, label_pos, 7)"
   ]
  },
  {
   "cell_type": "markdown",
   "metadata": {},
   "source": [
    "###  Southern Hemisphere - Humidity (%) vs. Latitude Linear Regression"
   ]
  },
  {
   "cell_type": "code",
   "execution_count": 147,
   "metadata": {},
   "outputs": [
    {
     "name": "stdout",
     "output_type": "stream",
     "text": [
      "The r-squared is: 0.012964517722296998\n"
     ]
    },
    {
     "data": {
      "image/png": "[encoded data removed]",
      "text/plain": [
       "<Figure size 432x288 with 1 Axes>"
      ]
     },
     "metadata": {
      "needs_background": "light"
     },
     "output_type": "display_data"
    }
   ],
   "source": [
    "# Define variables for linear regression of southern hemisphere and create linear regression plot using function plot_lr\n",
    "x_label = \"Lat\"\n",
    "y_label = \"Humidity\"\n",
    "label_pos = (-55,10)\n",
    "plt.title(\"Southern Hemisphere - Humitidy (%) vs. Latitude\")\n",
    "plot_lr(south[x_label], south[y_label], x_label, y_label, label_pos, 7)"
   ]
  },
  {
   "cell_type": "markdown",
   "metadata": {},
   "source": [
    "###  Northern Hemisphere - Cloudiness (%) vs. Latitude Linear Regression"
   ]
  },
  {
   "cell_type": "code",
   "execution_count": null,
   "metadata": {},
   "outputs": [],
   "source": []
  },
  {
   "cell_type": "markdown",
   "metadata": {},
   "source": [
    "###  Southern Hemisphere - Cloudiness (%) vs. Latitude Linear Regression"
   ]
  },
  {
   "cell_type": "code",
   "execution_count": null,
   "metadata": {},
   "outputs": [],
   "source": []
  },
  {
   "cell_type": "markdown",
   "metadata": {},
   "source": [
    "###  Northern Hemisphere - Wind Speed (mph) vs. Latitude Linear Regression"
   ]
  },
  {
   "cell_type": "code",
   "execution_count": null,
   "metadata": {},
   "outputs": [],
   "source": []
  },
  {
   "cell_type": "markdown",
   "metadata": {},
   "source": [
    "###  Southern Hemisphere - Wind Speed (mph) vs. Latitude Linear Regression"
   ]
  },
  {
   "cell_type": "code",
   "execution_count": null,
   "metadata": {},
   "outputs": [],
   "source": []
  }
 ],
 "metadata": {
  "anaconda-cloud": {},
  "kernel_info": {
   "name": "python3"
  },
  "kernelspec": {
   "display_name": "Python 3",
   "language": "python",
   "name": "python3"
  },
  "language_info": {
   "codemirror_mode": {
    "name": "ipython",
    "version": 3
   },
   "file_extension": ".py",
   "mimetype": "text/x-python",
   "name": "python",
   "nbconvert_exporter": "python",
   "pygments_lexer": "ipython3",
   "version": "3.8.5"
  },
  "latex_envs": {
   "LaTeX_envs_menu_present": true,
   "autoclose": false,
   "autocomplete": true,
   "bibliofile": "biblio.bib",
   "cite_by": "apalike",
   "current_citInitial": 1,
   "eqLabelWithNumbers": true,
   "eqNumInitial": 1,
   "hotkeys": {
    "equation": "Ctrl-E",
    "itemize": "Ctrl-I"
   },
   "labels_anchors": false,
   "latex_user_defs": false,
   "report_style_numbering": false,
   "user_envs_cfg": false
  },
  "nteract": {
   "version": "0.12.3"
  }
 },
 "nbformat": 4,
 "nbformat_minor": 2
}
